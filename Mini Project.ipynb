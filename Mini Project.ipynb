{
 "cells": [
  {
   "cell_type": "markdown",
   "metadata": {},
   "source": [
    "# MiniProject - Week 2"
   ]
  },
  {
   "cell_type": "markdown",
   "metadata": {},
   "source": [
    "## Main Goals\n",
    "- build the database of restaurants, bars and various points of interest (POIs)\n",
    "- determine which API has better coverage (in Halifax)\n",
    "- find the best path to vist the top 10 Points of interest"
   ]
  },
  {
   "cell_type": "markdown",
   "metadata": {},
   "source": [
    "## Project Components and Tasks:\n",
    "1. Setup and Planning\n",
    "2. Making API Calls\n",
    "3. Creating pandas DataFrames\n",
    "4. Creating SQL databases\n",
    "5. Determine top 10 points of interest\n",
    "6. Comparing the API results\n",
    "7. Completing the Travelling Salesman Problem"
   ]
  },
  {
   "cell_type": "markdown",
   "metadata": {},
   "source": [
    "---"
   ]
  },
  {
   "cell_type": "markdown",
   "metadata": {},
   "source": [
    "**Task One** <br>\n",
    "Setup and Planning <br>\n",
    "- Pick an area of interest \n",
    "- Import relevant packages\n",
    "- Store API keys"
   ]
  },
  {
   "cell_type": "code",
   "execution_count": 1,
   "metadata": {},
   "outputs": [],
   "source": [
    "#import packages\n",
    "import os \n",
    "import pandas as pd\n",
    "import foursquare\n",
    "import requests\n",
    "import json\n",
    "from IPython.display import JSON\n",
    "import sqlite3 as sqlite"
   ]
  },
  {
   "cell_type": "code",
   "execution_count": 2,
   "metadata": {},
   "outputs": [],
   "source": [
    "#Area of interest is Halifax, NS\n",
    "lat = 44.650029\n",
    "long = -63.571080\n",
    "ll = str(lat)+\",\"+str(long)"
   ]
  },
  {
   "cell_type": "code",
   "execution_count": 6,
   "metadata": {},
   "outputs": [],
   "source": [
    "#Store API Keys\n",
    "#start with foursquare client ID and client Secret\n",
    "foursquare_id =  #use os.environ before posting\n",
    "foursquare_secret = \n",
    "#set foursquare client to allow you to use the foursquare doumentation\n",
    "client = foursquare.Foursquare(client_id=foursquare_id, client_secret=foursquare_secret,version='20200731')\n",
    "\n",
    "#setup yelp with API key\n",
    "yelp_api_key = \"\"\n",
    "headers = {'Authorization': 'Bearer %s' % yelp_api_key}"
   ]
  },
  {
   "cell_type": "markdown",
   "metadata": {},
   "source": [
    "---"
   ]
  },
  {
   "cell_type": "markdown",
   "metadata": {},
   "source": [
    "**Task Two** <br>\n",
    "Making API Calls <br>\n",
    "- Review API documentation\n",
    "- Set task specific parameters\n",
    "- Store results for further analysis "
   ]
  },
  {
   "cell_type": "markdown",
   "metadata": {},
   "source": [
    "*Documentation Notes* <br>\n",
    "We will use the same categories for both to allow us to compare results <br>\n",
    "Categories include: coffee shops, breweries, resturants, comedy clubs\n",
    "\n",
    "|Foursquare|Yelp|\n",
    "| :---: | :---: | \n",
    "|using venue/search|businesses/search\n",
    "|Key parameters include : radius, categoryid|Key parameters include : radius, category|\n"
   ]
  },
  {
   "cell_type": "markdown",
   "metadata": {},
   "source": [
    "***Foursquare***"
   ]
  },
  {
   "cell_type": "code",
   "execution_count": 7,
   "metadata": {},
   "outputs": [],
   "source": [
    "#store categoryId to use in calls\n",
    "coffee = \"4bf58dd8d48988d1e0931735\"\n",
    "brewery = \"50327c8591d4c4b30a586d5d\"\n",
    "resturants = \"4d4b7105d754a06374d81259\"\n",
    "comedy = \"4bf58dd8d48988d18e941735\"\n",
    "\n",
    "#store a maximum radius \n",
    "radius = 10000"
   ]
  },
  {
   "cell_type": "code",
   "execution_count": 8,
   "metadata": {},
   "outputs": [],
   "source": [
    "foursquare_coffee = client.venues.search(params={'radius': radius, 'categoryId':coffee, 'll': ll})\n",
    "foursquare_brewery = client.venues.search(params={'radius': radius, 'categoryId':brewery, 'll': ll})\n",
    "foursquare_resturants = client.venues.search(params={'radius': radius, 'categoryId':resturants, 'll': ll})\n",
    "foursquare_comedy = client.venues.search(params={'radius': radius, 'categoryId':comedy, 'll': ll})"
   ]
  },
  {
   "cell_type": "markdown",
   "metadata": {},
   "source": [
    "***Yelp***"
   ]
  },
  {
   "cell_type": "code",
   "execution_count": 39,
   "metadata": {},
   "outputs": [],
   "source": [
    "#store categoryId to use in calls\n",
    "coffee = \"coffee\"\n",
    "brewery = \"breweries\"\n",
    "resturants = \"resturants\"\n",
    "comedy = \"comedyclubs\"\n",
    "\n",
    "#store a maximum radius \n",
    "radius = 10000\n",
    "\n",
    "#store standard url\n",
    "url = \"https://api.yelp.com/v3/businesses/search\""
   ]
  },
  {
   "cell_type": "code",
   "execution_count": 42,
   "metadata": {},
   "outputs": [],
   "source": [
    "#perform calls\n",
    "params_coffee = {'latitude':lat,'longitude':long,'radius':radius,'categories':coffee}\n",
    "params_brew = {'latitude':lat,'longitude':long,'radius':radius,'categories':brewery}\n",
    "params_resturants = {'latitude':lat,'longitude':long,'radius':radius,'categories':resturants}\n",
    "params_comedy = {'latitude':lat,'longitude':long,'radius':radius,'categories':comedy}\n",
    "\n",
    "yelp_coffee = requests.get(url, params=params_coffee, headers=headers).json()\n",
    "yelp_brewery = requests.get(url, params=params_brew, headers=headers).json()\n",
    "yelp_resturants = requests.get(url, params=params_resturants, headers=headers).json()\n",
    "yelp_comedy = requests.get(url, params=params_comedy, headers=headers).json()"
   ]
  },
  {
   "cell_type": "markdown",
   "metadata": {},
   "source": [
    "----"
   ]
  },
  {
   "cell_type": "markdown",
   "metadata": {},
   "source": [
    "**Task Three** <br>\n",
    "Creating pandas DataFrames\n",
    "- use pandas methods such as json_normalize()\n",
    "- combine the various API results into one DataFrame"
   ]
  },
  {
   "cell_type": "markdown",
   "metadata": {},
   "source": [
    "***Foursquare***"
   ]
  },
  {
   "cell_type": "code",
   "execution_count": 31,
   "metadata": {},
   "outputs": [],
   "source": [
    "def get_venue_info(response):\n",
    "    \"\"\"Extract the venues information portion of the file\"\"\"\n",
    "    response_venues = response[\"venues\"]\n",
    "    return response_venues\n",
    "    \n",
    "def get_dataframe(response_venues):\n",
    "    \"\"\"returns the pandas dataframe\"\"\"\n",
    "    df = pd.json_normalize(response_venues)\n",
    "    df_cat = pd.json_normalize(response_venues, record_path =\"categories\")\n",
    "    df_merged = pd.merge(df, df_cat, how='left', left_index = True, right_index = True, suffixes=(\"_venue\",\"_category\"))\n",
    "    df_merged = df_merged.drop(\"categories\",axis = 1)\n",
    "    df_merged = df_merged.drop(\"location.labeledLatLngs\",axis=1) \n",
    "    df_merged = df_merged.drop(\"location.formattedAddress\", axis=1)\n",
    "    return df_merged"
   ]
  },
  {
   "cell_type": "code",
   "execution_count": 32,
   "metadata": {},
   "outputs": [],
   "source": [
    "foursquare_coffee_df = get_dataframe(get_venue_info(foursquare_coffee))\n",
    "foursquare_brewery_df = get_dataframe(get_venue_info(foursquare_brewery))\n",
    "foursquare_resturants_df = get_dataframe(get_venue_info(foursquare_resturants))\n",
    "foursquare_comedy_df = get_dataframe(get_venue_info(foursquare_comedy))"
   ]
  },
  {
   "cell_type": "code",
   "execution_count": 34,
   "metadata": {},
   "outputs": [],
   "source": [
    "foursquare_df = foursquare_coffee_df.copy()\n",
    "foursquare_df = foursquare_df.append(foursquare_brewery_df, ignore_index=True)\n",
    "foursquare_df = foursquare_df.append(foursquare_resturants_df, ignore_index=True)\n",
    "foursquare_df = foursquare_df.append(foursquare_comedy_df, ignore_index=True)"
   ]
  },
  {
   "cell_type": "markdown",
   "metadata": {},
   "source": [
    "***Yelp***"
   ]
  },
  {
   "cell_type": "code",
   "execution_count": 46,
   "metadata": {},
   "outputs": [],
   "source": [
    "def get_business_info(response):\n",
    "    \"\"\"Extract the business information portion of the file\"\"\"\n",
    "    response_business = response[\"businesses\"]\n",
    "    return response_business\n",
    "    \n",
    "def get_dataframe(response_business):\n",
    "    \"\"\"returns the pandas dataframe\"\"\"\n",
    "    df = pd.json_normalize(response_business)\n",
    "    df_cat = pd.json_normalize(response_business, record_path =\"categories\")\n",
    "    df_merged = pd.merge(df, df_cat, how='left', left_index = True, right_index = True, suffixes=(\"_venue\",\"_category\"))\n",
    "    df_merged = df_merged.drop(\"categories\",axis = 1)\n",
    "    df_merged = df_merged.drop(\"transactions\",axis=1) \n",
    "    df_merged = df_merged.drop(\"location.display_address\", axis=1)\n",
    "    return df_merged"
   ]
  },
  {
   "cell_type": "code",
   "execution_count": 47,
   "metadata": {},
   "outputs": [],
   "source": [
    "yelp_coffee_df = get_dataframe(get_business_info(yelp_coffee))\n",
    "yelp_brewery_df = get_dataframe(get_business_info(yelp_brewery))\n",
    "yelp_resturants_df = get_dataframe(get_business_info(yelp_resturants))\n",
    "yelp_comedy_df = get_dataframe(get_business_info(yelp_comedy))"
   ]
  },
  {
   "cell_type": "code",
   "execution_count": 48,
   "metadata": {},
   "outputs": [],
   "source": [
    "yelp_df = yelp_coffee_df.copy()\n",
    "yelp_df = yelp_df.append(yelp_brewery_df, ignore_index=True)\n",
    "yelp_df = yelp_df.append(yelp_resturants_df, ignore_index=True)\n",
    "yelp_df = yelp_df.append(yelp_comedy_df, ignore_index=True)"
   ]
  },
  {
   "cell_type": "markdown",
   "metadata": {},
   "source": [
    "----"
   ]
  },
  {
   "cell_type": "markdown",
   "metadata": {},
   "source": [
    "**Task Four** <br>\n",
    "Creating SQL databases\n",
    "- using sqlite3\n",
    "- using pandas method to_sql()"
   ]
  },
  {
   "cell_type": "code",
   "execution_count": 36,
   "metadata": {},
   "outputs": [],
   "source": [
    "#function .create_connection() that accepts the path to the SQLite database.\n",
    "def create_connection(path):\n",
    "    connection = None\n",
    "    try:\n",
    "    #uses .connect() from the sqlite3 module and takes the SQLite database path as a parameter. \n",
    "    #If the database exists at the specified location, then a connection to the database is established. \n",
    "    #Otherwise, a new database is created at the specified location, and a connection is established.   \n",
    "        connection = sqlite.connect(path)\n",
    "        print(\"Connection to SQLite DB successful\")\n",
    "    #catches any exception that might be thrown if .connect() fails to establish a connection.\n",
    "    except Error as e:\n",
    "        print(f\"The error '{e}' occurred\")\n",
    "\n",
    "    return connection"
   ]
  },
  {
   "cell_type": "markdown",
   "metadata": {},
   "source": [
    "***Foursquare***"
   ]
  },
  {
   "cell_type": "code",
   "execution_count": 49,
   "metadata": {},
   "outputs": [
    {
     "name": "stdout",
     "output_type": "stream",
     "text": [
      "Connection to SQLite DB successful\n"
     ]
    }
   ],
   "source": [
    "connection = create_connection(\"foursquare.db\")"
   ]
  },
  {
   "cell_type": "code",
   "execution_count": 50,
   "metadata": {},
   "outputs": [],
   "source": [
    "df_foursquare = foursquare_df.copy()\n",
    "df_foursquare.to_sql('poi', con = connection, if_exists = 'replace', )"
   ]
  },
  {
   "cell_type": "markdown",
   "metadata": {},
   "source": [
    "***Yelp***"
   ]
  },
  {
   "cell_type": "code",
   "execution_count": 51,
   "metadata": {},
   "outputs": [
    {
     "name": "stdout",
     "output_type": "stream",
     "text": [
      "Connection to SQLite DB successful\n"
     ]
    }
   ],
   "source": [
    "connection = create_connection(\"yelp.db\")"
   ]
  },
  {
   "cell_type": "code",
   "execution_count": 52,
   "metadata": {},
   "outputs": [],
   "source": [
    "df_yelp = yelp_df.copy()\n",
    "df_yelp.to_sql('poi', con = connection, if_exists = 'replace', )"
   ]
  },
  {
   "cell_type": "markdown",
   "metadata": {},
   "source": [
    "---"
   ]
  },
  {
   "cell_type": "markdown",
   "metadata": {},
   "source": [
    "***Task 5*** <br>\n",
    "Determine top 10 points of interest\n",
    "- Foursquare obtain ratings for a sample of venue ids\n",
    "- Yelp observe the exisiting data and ratings\n",
    "- Yelp perform new API call with param sortby=rating"
   ]
  },
  {
   "cell_type": "code",
   "execution_count": 53,
   "metadata": {},
   "outputs": [],
   "source": [
    "yelp_topten = yelp_df.sort_values(by=\"rating\").head(10)"
   ]
  },
  {
   "cell_type": "code",
   "execution_count": 54,
   "metadata": {},
   "outputs": [],
   "source": [
    "#make a call to determine top 10 POIs\n",
    "sortby = \"rating\"\n",
    "limit =\"10\"\n",
    "params_top = {'latitude':lat,'longitude':long,'radius':radius,'sort_by':sortby, 'limit':limit}\n",
    "yelp_top = requests.get(url, params=params_top, headers=headers).json()"
   ]
  },
  {
   "cell_type": "code",
   "execution_count": 55,
   "metadata": {},
   "outputs": [
    {
     "data": {
      "application/json": {
       "businesses": [
        {
         "alias": "java-blend-coffee-roasters-halifax",
         "categories": [
          {
           "alias": "coffee",
           "title": "Coffee & Tea"
          }
         ],
         "coordinates": {
          "latitude": 44.6544041476805,
          "longitude": -63.5954248486025
         },
         "display_phone": "+1 902-423-6944",
         "distance": 1986.2366064479268,
         "id": "NdZX-yF1rbZhQOgcbxBdlA",
         "image_url": "https://s3-media3.fl.yelpcdn.com/bphoto/cygGTOhzSXgnDBRQg1nn8g/o.jpg",
         "is_closed": false,
         "location": {
          "address1": "6027 North Street",
          "address2": "",
          "address3": "",
          "city": "Halifax",
          "country": "CA",
          "display_address": [
           "6027 North Street",
           "Halifax, NS B3K 1N9",
           "Canada"
          ],
          "state": "NS",
          "zip_code": "B3K 1N9"
         },
         "name": "Java Blend Coffee Roasters",
         "phone": "+19024236944",
         "price": "$",
         "rating": 4.5,
         "review_count": 76,
         "transactions": [],
         "url": "https://www.yelp.com/biz/java-blend-coffee-roasters-halifax?adjust_creative=4dBA77VuGU3H4214lJC3vQ&utm_campaign=yelp_api_v3&utm_medium=api_v3_business_search&utm_source=4dBA77VuGU3H4214lJC3vQ"
        },
        {
         "alias": "the-bicycle-thief-halifax",
         "categories": [
          {
           "alias": "italian",
           "title": "Italian"
          },
          {
           "alias": "desserts",
           "title": "Desserts"
          },
          {
           "alias": "wine_bars",
           "title": "Wine Bars"
          }
         ],
         "coordinates": {
          "latitude": 44.64338,
          "longitude": -63.56897
         },
         "display_phone": "+1 902-425-7993",
         "distance": 751.907060196128,
         "id": "_zxUlzXG_qvnXW0BGE6bhw",
         "image_url": "https://s3-media3.fl.yelpcdn.com/bphoto/fTydjZmf3ApWTMJM_fQEbw/o.jpg",
         "is_closed": false,
         "location": {
          "address1": "1475 Lower Water Street",
          "address2": "",
          "address3": "",
          "city": "Halifax",
          "country": "CA",
          "display_address": [
           "1475 Lower Water Street",
           "Halifax, NS B3J 3Z2",
           "Canada"
          ],
          "state": "NS",
          "zip_code": "B3J 3Z2"
         },
         "name": "The Bicycle Thief",
         "phone": "+19024257993",
         "price": "$$$",
         "rating": 4.5,
         "review_count": 512,
         "transactions": [],
         "url": "https://www.yelp.com/biz/the-bicycle-thief-halifax?adjust_creative=4dBA77VuGU3H4214lJC3vQ&utm_campaign=yelp_api_v3&utm_medium=api_v3_business_search&utm_source=4dBA77VuGU3H4214lJC3vQ"
        },
        {
         "alias": "edna-restaurant-halifax",
         "categories": [
          {
           "alias": "newcanadian",
           "title": "Canadian (New)"
          }
         ],
         "coordinates": {
          "latitude": 44.651482,
          "longitude": -63.582243
         },
         "display_phone": "+1 902-431-5683",
         "distance": 897.7012472724618,
         "id": "joNYH4CMSqSHFKe-9oqH7Q",
         "image_url": "https://s3-media3.fl.yelpcdn.com/bphoto/ArppdyrTcw8PzGaSbz3vKQ/o.jpg",
         "is_closed": false,
         "location": {
          "address1": "2053 Gottingen Street",
          "address2": "",
          "address3": "",
          "city": "Halifax",
          "country": "CA",
          "display_address": [
           "2053 Gottingen Street",
           "Halifax, NS B3K 3B3",
           "Canada"
          ],
          "state": "NS",
          "zip_code": "B3K 3B3"
         },
         "name": "EDNA Restaurant",
         "phone": "+19024315683",
         "price": "$$",
         "rating": 4.5,
         "review_count": 121,
         "transactions": [],
         "url": "https://www.yelp.com/biz/edna-restaurant-halifax?adjust_creative=4dBA77VuGU3H4214lJC3vQ&utm_campaign=yelp_api_v3&utm_medium=api_v3_business_search&utm_source=4dBA77VuGU3H4214lJC3vQ"
        },
        {
         "alias": "2-doors-down-halifax",
         "categories": [
          {
           "alias": "newcanadian",
           "title": "Canadian (New)"
          },
          {
           "alias": "desserts",
           "title": "Desserts"
          },
          {
           "alias": "wine_bars",
           "title": "Wine Bars"
          }
         ],
         "coordinates": {
          "latitude": 44.644845,
          "longitude": -63.572681
         },
         "display_phone": "+1 902-422-4224",
         "distance": 590.1839351885733,
         "id": "NKK4ry4MD9wNhO9CIaBEvQ",
         "image_url": "https://s3-media4.fl.yelpcdn.com/bphoto/-G1TfXKYBnCbpPyfbizK6g/o.jpg",
         "is_closed": false,
         "location": {
          "address1": "1533 Barrington Street",
          "address2": "",
          "address3": "",
          "city": "Halifax",
          "country": "CA",
          "display_address": [
           "1533 Barrington Street",
           "Halifax, NS B3J 1Z4",
           "Canada"
          ],
          "state": "NS",
          "zip_code": "B3J 1Z4"
         },
         "name": "2 Doors Down",
         "phone": "+19024224224",
         "price": "$$",
         "rating": 4.5,
         "review_count": 274,
         "transactions": [],
         "url": "https://www.yelp.com/biz/2-doors-down-halifax?adjust_creative=4dBA77VuGU3H4214lJC3vQ&utm_campaign=yelp_api_v3&utm_medium=api_v3_business_search&utm_source=4dBA77VuGU3H4214lJC3vQ"
        },
        {
         "alias": "sweet-hereafter-halifax",
         "categories": [
          {
           "alias": "bakeries",
           "title": "Bakeries"
          },
          {
           "alias": "vegan",
           "title": "Vegan"
          },
          {
           "alias": "gluten_free",
           "title": "Gluten-Free"
          }
         ],
         "coordinates": {
          "latitude": 44.6459885,
          "longitude": -63.5944595
         },
         "display_phone": "+1 902-404-8001",
         "distance": 1902.7583324264665,
         "id": "WIqiRTzHxyIhuUH7PwEQEw",
         "image_url": "https://s3-media4.fl.yelpcdn.com/bphoto/r7Df5WeQQjdR5_AmRTfe4A/o.jpg",
         "is_closed": false,
         "location": {
          "address1": "6148 Quinpool Road",
          "address2": "",
          "address3": "",
          "city": "Halifax",
          "country": "CA",
          "display_address": [
           "6148 Quinpool Road",
           "Halifax, NS B3L 1A3",
           "Canada"
          ],
          "state": "NS",
          "zip_code": "B3L 1A3"
         },
         "name": "Sweet Hereafter",
         "phone": "+19024048001",
         "price": "$$",
         "rating": 4.5,
         "review_count": 112,
         "transactions": [],
         "url": "https://www.yelp.com/biz/sweet-hereafter-halifax?adjust_creative=4dBA77VuGU3H4214lJC3vQ&utm_campaign=yelp_api_v3&utm_medium=api_v3_business_search&utm_source=4dBA77VuGU3H4214lJC3vQ"
        },
        {
         "alias": "morris-east-restaurant-and-wine-halifax-2",
         "categories": [
          {
           "alias": "pizza",
           "title": "Pizza"
          },
          {
           "alias": "bars",
           "title": "Bars"
          }
         ],
         "coordinates": {
          "latitude": 44.6415956,
          "longitude": -63.5715506
         },
         "display_phone": "+1 902-444-7663",
         "distance": 938.488993170192,
         "id": "4l0VhUpRJ4NLMvueFHIgxQ",
         "image_url": "https://s3-media3.fl.yelpcdn.com/bphoto/Ntz2eEXfQ1Zva5cAD-j84g/o.jpg",
         "is_closed": false,
         "location": {
          "address1": "5212 Morris Street",
          "address2": "",
          "address3": "",
          "city": "Halifax",
          "country": "CA",
          "display_address": [
           "5212 Morris Street",
           "Halifax, NS B3J 1B4",
           "Canada"
          ],
          "state": "NS",
          "zip_code": "B3J 1B4"
         },
         "name": "Morris East Restaurant & Wine",
         "phone": "+19024447663",
         "price": "$$",
         "rating": 4.5,
         "review_count": 152,
         "transactions": [],
         "url": "https://www.yelp.com/biz/morris-east-restaurant-and-wine-halifax-2?adjust_creative=4dBA77VuGU3H4214lJC3vQ&utm_campaign=yelp_api_v3&utm_medium=api_v3_business_search&utm_source=4dBA77VuGU3H4214lJC3vQ"
        },
        {
         "alias": "cha-baa-thai-dartmouth",
         "categories": [
          {
           "alias": "thai",
           "title": "Thai"
          }
         ],
         "coordinates": {
          "latitude": 44.69948,
          "longitude": -63.58725
         },
         "display_phone": "+1 902-407-8899",
         "distance": 5648.700340369021,
         "id": "F5Go-t5-SyIXLMc8xD8Z9w",
         "image_url": "https://s3-media2.fl.yelpcdn.com/bphoto/VS0203wndVgOu00TMNcf2Q/o.jpg",
         "is_closed": false,
         "location": {
          "address1": "100 Ilsley Dr",
          "address2": "",
          "address3": "",
          "city": "Dartmouth",
          "country": "CA",
          "display_address": [
           "100 Ilsley Dr",
           "Dartmouth, NS B3B 1L3",
           "Canada"
          ],
          "state": "NS",
          "zip_code": "B3B 1L3"
         },
         "name": "Cha Baa Thai",
         "phone": "+19024078899",
         "price": "$$",
         "rating": 4.5,
         "review_count": 58,
         "transactions": [],
         "url": "https://www.yelp.com/biz/cha-baa-thai-dartmouth?adjust_creative=4dBA77VuGU3H4214lJC3vQ&utm_campaign=yelp_api_v3&utm_medium=api_v3_business_search&utm_source=4dBA77VuGU3H4214lJC3vQ"
        },
        {
         "alias": "efendy-turkish-and-mediterranean-grill-halifax",
         "categories": [
          {
           "alias": "turkish",
           "title": "Turkish"
          },
          {
           "alias": "mediterranean",
           "title": "Mediterranean"
          }
         ],
         "coordinates": {
          "latitude": 44.644521,
          "longitude": -63.578421
         },
         "display_phone": "+1 902-444-8064",
         "distance": 844.0187768030995,
         "id": "ChwJ1mH37odUICxF2RuQIQ",
         "image_url": "https://s3-media2.fl.yelpcdn.com/bphoto/HKHn9VWZBdJ6L4J0NGECsQ/o.jpg",
         "is_closed": false,
         "location": {
          "address1": "1569 Dresden Row",
          "address2": "",
          "address3": "",
          "city": "Halifax",
          "country": "CA",
          "display_address": [
           "1569 Dresden Row",
           "Halifax, NS B3J 2K4",
           "Canada"
          ],
          "state": "NS",
          "zip_code": "B3J 2K4"
         },
         "name": "Efendy Turkish & Mediterranean Grill",
         "phone": "+19024448064",
         "price": "$$",
         "rating": 4.5,
         "review_count": 56,
         "transactions": [],
         "url": "https://www.yelp.com/biz/efendy-turkish-and-mediterranean-grill-halifax?adjust_creative=4dBA77VuGU3H4214lJC3vQ&utm_campaign=yelp_api_v3&utm_medium=api_v3_business_search&utm_source=4dBA77VuGU3H4214lJC3vQ"
        },
        {
         "alias": "point-pleasant-park-halifax",
         "categories": [
          {
           "alias": "parks",
           "title": "Parks"
          }
         ],
         "coordinates": {
          "latitude": 44.6257634903266,
          "longitude": -63.569513543733
         },
         "display_phone": "",
         "distance": 2701.0436756240492,
         "id": "h7QUd1WDiVMDshewYizd3g",
         "image_url": "https://s3-media1.fl.yelpcdn.com/bphoto/ENnif7Go4PfvpnD1FQk-XA/o.jpg",
         "is_closed": false,
         "location": {
          "address1": "5718 Point Pleasant Drive",
          "address2": "",
          "address3": "",
          "city": "Halifax",
          "country": "CA",
          "display_address": [
           "5718 Point Pleasant Drive",
           "Halifax, NS B3H 1B5",
           "Canada"
          ],
          "state": "NS",
          "zip_code": "B3H 1B5"
         },
         "name": "Point Pleasant Park",
         "phone": "",
         "rating": 4.5,
         "review_count": 57,
         "transactions": [],
         "url": "https://www.yelp.com/biz/point-pleasant-park-halifax?adjust_creative=4dBA77VuGU3H4214lJC3vQ&utm_campaign=yelp_api_v3&utm_medium=api_v3_business_search&utm_source=4dBA77VuGU3H4214lJC3vQ"
        },
        {
         "alias": "buta-ramen-halifax",
         "categories": [
          {
           "alias": "ramen",
           "title": "Ramen"
          },
          {
           "alias": "soup",
           "title": "Soup"
          },
          {
           "alias": "noodles",
           "title": "Noodles"
          }
         ],
         "coordinates": {
          "latitude": 44.6417,
          "longitude": -63.57093
         },
         "display_phone": "+1 902-422-0245",
         "distance": 920.5859489550643,
         "id": "Cn3jWLTuRhhUoyEtaWowIw",
         "image_url": "https://s3-media4.fl.yelpcdn.com/bphoto/lH9U3gYR4IrKTzVh0nRDYQ/o.jpg",
         "is_closed": false,
         "location": {
          "address1": "5190 Morris St",
          "address2": "",
          "address3": null,
          "city": "Halifax",
          "country": "CA",
          "display_address": [
           "5190 Morris St",
           "Halifax, NS B3J 1B3",
           "Canada"
          ],
          "state": "NS",
          "zip_code": "B3J 1B3"
         },
         "name": "Buta Ramen",
         "phone": "+19024220245",
         "price": "$$",
         "rating": 4.5,
         "review_count": 55,
         "transactions": [],
         "url": "https://www.yelp.com/biz/buta-ramen-halifax?adjust_creative=4dBA77VuGU3H4214lJC3vQ&utm_campaign=yelp_api_v3&utm_medium=api_v3_business_search&utm_source=4dBA77VuGU3H4214lJC3vQ"
        }
       ],
       "region": {
        "center": {
         "latitude": 44.650029,
         "longitude": -63.57108
        }
       },
       "total": 911
      },
      "text/plain": [
       "<IPython.core.display.JSON object>"
      ]
     },
     "execution_count": 55,
     "metadata": {
      "application/json": {
       "expanded": false,
       "root": "root"
      }
     },
     "output_type": "execute_result"
    }
   ],
   "source": [
    "JSON(yelp_top)"
   ]
  },
  {
   "cell_type": "markdown",
   "metadata": {},
   "source": [
    "> In the yelp documentation it explains that the sortby is \"not strictly enforced\". This means that it is not just returning the highest rating because it is also weighting the number of reviews. This is why we have some higher rated items in our inital results "
   ]
  },
  {
   "cell_type": "code",
   "execution_count": 56,
   "metadata": {},
   "outputs": [],
   "source": [
    "def get_rating (venue_id):\n",
    "    \"\"\"return the rating for a given venue id if available\"\"\"\n",
    "    venue_id = str(venue_id)\n",
    "    foursquare_id = \"\"\n",
    "    foursquare_secret = \n",
    "    client = foursquare.Foursquare(client_id=foursquare_id, client_secret=foursquare_secret,version='20200731')\n",
    "    res = client.venues(venue_id)\n",
    "    try:\n",
    "        rating =res[\"venue\"][\"rating\"]\n",
    "        return rating\n",
    "    except KeyError: \n",
    "        return None"
   ]
  },
  {
   "cell_type": "code",
   "execution_count": 57,
   "metadata": {},
   "outputs": [],
   "source": [
    "sample_foursquare=foursquare_df.sample(15)"
   ]
  },
  {
   "cell_type": "code",
   "execution_count": 58,
   "metadata": {},
   "outputs": [],
   "source": [
    "sample_foursquare['rating'] = sample_foursquare['id_venue'].apply(get_rating)"
   ]
  },
  {
   "cell_type": "code",
   "execution_count": 59,
   "metadata": {},
   "outputs": [],
   "source": [
    "foursquare_topten = sample_foursquare.sort_values(by=\"rating\",ascending=False).head(10)"
   ]
  },
  {
   "cell_type": "markdown",
   "metadata": {},
   "source": [
    "> In the foursquare documentation it states that it will not return ratings for venues that don't have reviews -- this resulted in missing information "
   ]
  },
  {
   "cell_type": "markdown",
   "metadata": {},
   "source": [
    "----"
   ]
  },
  {
   "cell_type": "markdown",
   "metadata": {},
   "source": [
    "**Task Six** <br>\n",
    "Comparison"
   ]
  },
  {
   "cell_type": "code",
   "execution_count": 37,
   "metadata": {},
   "outputs": [],
   "source": [
    "class color:\n",
    "   PURPLE = '\\033[95m'\n",
    "   CYAN = '\\033[96m'\n",
    "   DARKCYAN = '\\033[36m'\n",
    "   BLUE = '\\033[94m'\n",
    "   GREEN = '\\033[92m'\n",
    "   YELLOW = '\\033[93m'\n",
    "   RED = '\\033[91m'\n",
    "   BOLD = '\\033[1m'\n",
    "   UNDERLINE = '\\033[4m'\n",
    "   END = '\\033[0m'"
   ]
  },
  {
   "cell_type": "code",
   "execution_count": 60,
   "metadata": {},
   "outputs": [
    {
     "name": "stdout",
     "output_type": "stream",
     "text": [
      "the length of\u001b[1m foursquare results \u001b[0mis: 95\n",
      "the length of\u001b[1m yelp results \u001b[0mis: 61\n",
      "the number of duplicate\u001b[1m foursquare results \u001b[0mis: 12\n",
      "the number of duplicate\u001b[1m yelp results \u001b[0mis: 1\n"
     ]
    }
   ],
   "source": [
    "print (\"the length of\" + color.BOLD + ' foursquare results ' + color.END + \"is: {}\".format(len(foursquare_df)))\n",
    "print (\"the length of\" + color.BOLD + ' yelp results ' + color.END + \"is: {}\".format(len(yelp_df)))\n",
    "duplicateRowsDF_foursquare = foursquare_df[foursquare_df.duplicated(['id_venue'])]\n",
    "duplicateRowsDF_yelp = yelp_df[yelp_df.duplicated(['id'])]\n",
    "\n",
    "print (\"the number of duplicate\" + color.BOLD + ' foursquare results ' + color.END + \"is: {}\".format(len(duplicateRowsDF_foursquare)))\n",
    "print (\"the number of duplicate\" + color.BOLD + ' yelp results ' + color.END + \"is: {}\".format(len(duplicateRowsDF_yelp)))"
   ]
  },
  {
   "cell_type": "code",
   "execution_count": 61,
   "metadata": {},
   "outputs": [
    {
     "name": "stdout",
     "output_type": "stream",
     "text": [
      "name_category\n",
      "Breakfast Spot           1\n",
      "Brewery                 25\n",
      "Burger Joint             1\n",
      "Coffee Shop             41\n",
      "Comedy Club             10\n",
      "Fast Food Restaurant     4\n",
      "Food Court               1\n",
      "Gastropub                1\n",
      "Grocery Store            4\n",
      "Italian Restaurant       1\n",
      "Pizza Place              2\n",
      "Pub                      1\n",
      "Restaurant               1\n",
      "Sandwich Place           1\n",
      "Supermarket              1\n",
      "Name: name_venue, dtype: int64\n",
      "alias_category\n",
      "bakeries             5\n",
      "bars                 3\n",
      "bbq                  1\n",
      "beertours            1\n",
      "bookstores           1\n",
      "breakfast_brunch     2\n",
      "breweries           14\n",
      "brewpubs             3\n",
      "burgers              1\n",
      "cocktailbars         1\n",
      "coffee              11\n",
      "comedyclubs          1\n",
      "desserts             2\n",
      "gluten_free          1\n",
      "italian              1\n",
      "lounges              1\n",
      "musicvenues          1\n",
      "newcanadian          3\n",
      "pizza                1\n",
      "pubs                 2\n",
      "sandwiches           1\n",
      "tea                  1\n",
      "vegan                1\n",
      "wine_bars            2\n",
      "Name: name, dtype: int64\n"
     ]
    }
   ],
   "source": [
    "categoryCount_foursquare = foursquare_df.groupby(\"name_category\")[\"name_venue\"].count()\n",
    "print(categoryCount_foursquare)\n",
    "categoryCount_yelp = yelp_df.groupby(\"alias_category\")[\"name\"].count()\n",
    "print(categoryCount_yelp)"
   ]
  },
  {
   "cell_type": "code",
   "execution_count": 130,
   "metadata": {},
   "outputs": [
    {
     "data": {
      "text/plain": [
       "0           Tim Hortons\n",
       "1             Starbucks\n",
       "2             Starbucks\n",
       "3               Almonak\n",
       "4           Tim Hortons\n",
       "5           Tim Hortons\n",
       "6           Tim Hortons\n",
       "7             Starbucks\n",
       "8             Starbucks\n",
       "9           Tim Hortons\n",
       "10          Tim Hortons\n",
       "11          Tim Hortons\n",
       "12            Starbucks\n",
       "13          Tim Hortons\n",
       "14            Starbucks\n",
       "15          Tim Hortons\n",
       "16          Tim Hortons\n",
       "17            Nespresso\n",
       "18          Tim Hortons\n",
       "19           Second Cup\n",
       "20           Second Cup\n",
       "21     Uncommon Grounds\n",
       "22            Starbucks\n",
       "23          Tim Hortons\n",
       "24            Starbucks\n",
       "25           Second Cup\n",
       "26    Java Blend Coffee\n",
       "27         Cabin Coffee\n",
       "28       The Wired Monk\n",
       "55          Tim Hortons\n",
       "63            Starbucks\n",
       "65            Starbucks\n",
       "67            Starbucks\n",
       "71          Tim Hortons\n",
       "77          Tim Hortons\n",
       "79            Starbucks\n",
       "80          Tim Hortons\n",
       "81           Second Cup\n",
       "82    Java Blend Coffee\n",
       "83            Starbucks\n",
       "84       The Wired Monk\n",
       "Name: name_venue, dtype: object"
      ]
     },
     "execution_count": 130,
     "metadata": {},
     "output_type": "execute_result"
    }
   ],
   "source": [
    "foursquare_df[foursquare_df[\"name_category\"] == \"Coffee Shop\"][\"name_venue\"]"
   ]
  },
  {
   "cell_type": "code",
   "execution_count": 126,
   "metadata": {},
   "outputs": [
    {
     "data": {
      "text/plain": [
       "0       Java Blend Coffee Roasters\n",
       "1         The Board Room Game Cafe\n",
       "2                  World Tea House\n",
       "4                     Cabin Coffee\n",
       "6     The Wired Monk Coffee Bistro\n",
       "9        Steve O Reno's Cappuccino\n",
       "11                Uncommon Grounds\n",
       "15         Dilly Dally Coffee Cafe\n",
       "16                 Narrow Espresso\n",
       "19                         Chatime\n",
       "56                    Cha Baa Thai\n",
       "Name: name, dtype: object"
      ]
     },
     "execution_count": 126,
     "metadata": {},
     "output_type": "execute_result"
    }
   ],
   "source": [
    "yelp_df[yelp_df[\"alias_category\"]==\"coffee\"][\"name\"]"
   ]
  },
  {
   "cell_type": "markdown",
   "metadata": {},
   "source": [
    "|Element|Foursquare|Yelp|\n",
    "| :---: | :---: | :---: | \n",
    "|Response Number|Returned **More** Responses|Returned **Less** Responses|\n",
    "|Duplication in Responses|Returned **More** Duplicates|Returned **Less** Duplicates|\n",
    "|Category| Provided **Less Specific** Categories| Provide More Categories and **More Specific** Categories|\n",
    "|Quality of Results|More **Generic** Options|More **Local Specific** Options|\n",
    "|Ratings| **Less** Ratings Provided| **More** Ratings Provided|"
   ]
  },
  {
   "cell_type": "markdown",
   "metadata": {},
   "source": [
    "-----"
   ]
  },
  {
   "cell_type": "markdown",
   "metadata": {},
   "source": [
    "**Task Seven** <br>\n",
    "Completing the Travelling Salesman Problem"
   ]
  },
  {
   "cell_type": "markdown",
   "metadata": {},
   "source": [
    "*Notes* : Code for the matrix and TSP was taken from the Google API instructions in order to obtain the response to the TSP. <br>as provided [here](https://developers.google.com/optimization/routing/tsp)"
   ]
  },
  {
   "cell_type": "markdown",
   "metadata": {},
   "source": [
    "***Get Addresses of Top 10 places to set as Destinations***"
   ]
  },
  {
   "cell_type": "code",
   "execution_count": 63,
   "metadata": {},
   "outputs": [],
   "source": [
    "def get_addresses(civic_address2,civic_address1, city, province):\n",
    "    \"\"\"function to extract address from our DataFrame\"\"\"\n",
    "    if civic_address2 == \"\":\n",
    "        ca = civic_address1.split(\" \")\n",
    "    elif civic_address2 != None:\n",
    "        ca = civic_address2.split(\" \")\n",
    "    else:\n",
    "        ca = civic_address1.split(\" \")\n",
    "    \n",
    "    for i in range(len(ca)):\n",
    "        if i == 0:\n",
    "            street_address = ca[i]\n",
    "        else:\n",
    "            street_address = str(street_address) + \"+\" + str(ca[i])\n",
    "    \n",
    "    address = str(street_address)+\"+\"+str(city)+\"+\"+str(province)\n",
    "    return address"
   ]
  },
  {
   "cell_type": "code",
   "execution_count": 64,
   "metadata": {},
   "outputs": [],
   "source": [
    "#apply the function to our dataframe of POIs\n",
    "addresses = yelp_topten.apply(lambda x: get_addresses(x['location.address2'], x['location.address1'],\n",
    "                                                 x['location.city'],x['location.state']), axis=1)"
   ]
  },
  {
   "cell_type": "code",
   "execution_count": 65,
   "metadata": {},
   "outputs": [],
   "source": [
    "#Convert the output to a list\n",
    "address = addresses.tolist()"
   ]
  },
  {
   "cell_type": "markdown",
   "metadata": {},
   "source": [
    "***Determine Distance Matrix***"
   ]
  },
  {
   "cell_type": "code",
   "execution_count": 66,
   "metadata": {},
   "outputs": [],
   "source": [
    "#FROM API DOCUMENTATION\n",
    "def build_distance_matrix(response):\n",
    "    distance_matrix = []\n",
    "    for row in response['rows']:\n",
    "        row_list = [row['elements'][j]['distance']['value'] for j in range(len(row['elements']))]\n",
    "        distance_matrix.append(row_list)\n",
    "    return distance_matrix"
   ]
  },
  {
   "cell_type": "code",
   "execution_count": 67,
   "metadata": {},
   "outputs": [],
   "source": [
    "#FROM API DOCUMENTATION\n",
    "def send_request(origin_addresses, dest_addresses, API_key):\n",
    "    \"\"\" Build and send request for the given origin and destination addresses.\"\"\"\n",
    "    def build_address_str(addresses):\n",
    "        # Build a pipe-separated string of addresses\n",
    "        address_str = ''\n",
    "        for i in range(len(addresses) - 1):\n",
    "            address_str += addresses[i] + '|'\n",
    "        address_str += addresses[-1]\n",
    "        return address_str\n",
    "\n",
    "    request = 'https://maps.googleapis.com/maps/api/distancematrix/json?units=metric'\n",
    "    origin_address_str = build_address_str(origin_addresses)\n",
    "    dest_address_str = build_address_str(dest_addresses)\n",
    "    request = request + '&origins=' + origin_address_str + '&destinations=' + \\\n",
    "                       dest_address_str + '&key=' + API_key\n",
    "    response = requests.get(request).json()\n",
    "    return response"
   ]
  },
  {
   "cell_type": "code",
   "execution_count": 68,
   "metadata": {},
   "outputs": [],
   "source": [
    "#FROM API DOCUMENTATION \n",
    "def create_distance_matrix(data):\n",
    "    addresses = data[\"addresses\"]\n",
    "    API_key = data[\"API_key\"]\n",
    "  \n",
    "    # Distance Matrix API only accepts 100 elements per request, so get rows in multiple requests.\n",
    "    max_elements = 100\n",
    "    num_addresses = len(addresses) # 16 in this example.\n",
    "    # Maximum number of rows that can be computed per request (6 in this example).\n",
    "    max_rows = max_elements // num_addresses\n",
    "    # num_addresses = q * max_rows + r (q = 2 and r = 4 in this example).\n",
    "    q, r = divmod(num_addresses, max_rows)\n",
    "    dest_addresses = addresses\n",
    "    distance_matrix = []\n",
    "    # Send q requests, returning max_rows rows per request.\n",
    "    for i in range(q):\n",
    "        origin_addresses = addresses[i * max_rows: (i + 1) * max_rows]\n",
    "        response = send_request(origin_addresses, dest_addresses, API_key)\n",
    "        distance_matrix += build_distance_matrix(response)\n",
    "    # Get the remaining remaining r rows, if necessary.\n",
    "    if r > 0:\n",
    "        origin_addresses = addresses[q * max_rows: q * max_rows + r]\n",
    "        response = send_request(origin_addresses, dest_addresses, API_key)\n",
    "        distance_matrix += build_distance_matrix(response)\n",
    "    return distance_matrix"
   ]
  },
  {
   "cell_type": "code",
   "execution_count": 69,
   "metadata": {},
   "outputs": [],
   "source": [
    "data = {'addresses':address, 'API_key':\"\"}\n",
    "distance_matrix = create_distance_matrix(data)"
   ]
  },
  {
   "cell_type": "code",
   "execution_count": 88,
   "metadata": {},
   "outputs": [
    {
     "name": "stdout",
     "output_type": "stream",
     "text": [
      "[[0, 3796, 2338, 1896, 2336, 3309, 0, 2194, 1569, 3027], [3767, 0, 1483, 2027, 1385, 657, 3767, 1403, 2099, 1142], [2512, 1655, 0, 1129, 747, 1015, 2512, 1067, 1383, 1195], [2238, 2057, 1129, 0, 628, 1393, 2238, 486, 360, 1129], [2878, 1270, 918, 829, 0, 783, 2878, 341, 1083, 501], [3110, 1076, 931, 1370, 728, 0, 3110, 746, 1442, 485], [0, 3796, 2338, 1896, 2336, 3309, 0, 2194, 1569, 3027], [2336, 1693, 866, 514, 365, 1130, 2336, 0, 769, 866], [1650, 2206, 1379, 364, 877, 1643, 1650, 735, 0, 1378], [2798, 1213, 1067, 749, 599, 726, 2798, 261, 1003, 0]]\n"
     ]
    }
   ],
   "source": [
    "print(distance_matrix)"
   ]
  },
  {
   "cell_type": "markdown",
   "metadata": {},
   "source": [
    "***Complete Travelling Salesman Problem***"
   ]
  },
  {
   "cell_type": "code",
   "execution_count": 70,
   "metadata": {},
   "outputs": [],
   "source": [
    "from __future__ import print_function\n",
    "from ortools.constraint_solver import routing_enums_pb2\n",
    "from ortools.constraint_solver import pywrapcp"
   ]
  },
  {
   "cell_type": "code",
   "execution_count": 105,
   "metadata": {},
   "outputs": [],
   "source": [
    "def print_solution(manager, routing, solution):\n",
    "    \"\"\"Prints solution on console.\"\"\"\n",
    "    print('Objective: {}'.format(solution.ObjectiveValue()))\n",
    "    index = routing.Start(0)\n",
    "    plan_output = 'Route:\\n'\n",
    "    route_distance = 0\n",
    "    while not routing.IsEnd(index):\n",
    "        plan_output += ' {} ->'.format(manager.IndexToNode(index))\n",
    "        previous_index = index\n",
    "        index = solution.Value(routing.NextVar(index))\n",
    "        route_distance += routing.GetArcCostForVehicle(previous_index, index, 0)\n",
    "    plan_output += ' {}\\n'.format(manager.IndexToNode(index))\n",
    "    print(plan_output)\n",
    "    plan_output += 'Objective: {}metres\\n'.format(route_distance)"
   ]
  },
  {
   "cell_type": "code",
   "execution_count": 106,
   "metadata": {},
   "outputs": [],
   "source": [
    "TSP_data = {}\n",
    "TSP_data['distance_matrix'] = distance_matrix #as found above\n",
    "TSP_data['num_vehicles'] = 1 #Traveling sales man problem\n",
    "TSP_data['depot'] = 9 #start at most popular"
   ]
  },
  {
   "cell_type": "code",
   "execution_count": 112,
   "metadata": {},
   "outputs": [],
   "source": [
    "manager = pywrapcp.RoutingIndexManager(len(TSP_data['distance_matrix']),TSP_data['num_vehicles'], TSP_data['depot'])\n",
    "routing = pywrapcp.RoutingModel(manager)"
   ]
  },
  {
   "cell_type": "code",
   "execution_count": 113,
   "metadata": {},
   "outputs": [],
   "source": [
    "def distance_callback(from_index, to_index):\n",
    "    \"\"\"Returns the distance between the two nodes.\"\"\"\n",
    "    # Convert from routing variable Index to distance matrix NodeIndex.\n",
    "    from_node = manager.IndexToNode(from_index)\n",
    "    to_node = manager.IndexToNode(to_index)\n",
    "    return data['distance_matrix'][from_node][to_node]\n",
    "\n",
    "transit_callback_index = routing.RegisterTransitCallback(distance_callback)"
   ]
  },
  {
   "cell_type": "code",
   "execution_count": 114,
   "metadata": {},
   "outputs": [],
   "source": [
    "routing.SetArcCostEvaluatorOfAllVehicles(transit_callback_index)"
   ]
  },
  {
   "cell_type": "code",
   "execution_count": 115,
   "metadata": {},
   "outputs": [],
   "source": [
    "search_parameters = pywrapcp.DefaultRoutingSearchParameters()\n",
    "search_parameters.first_solution_strategy = (routing_enums_pb2.FirstSolutionStrategy.PATH_CHEAPEST_ARC)"
   ]
  },
  {
   "cell_type": "code",
   "execution_count": 116,
   "metadata": {},
   "outputs": [
    {
     "name": "stdout",
     "output_type": "stream",
     "text": [
      "Objective: 0\n",
      "Route:\n",
      " 9 -> 8 -> 7 -> 6 -> 5 -> 4 -> 3 -> 2 -> 1 -> 0 -> 9\n",
      "\n"
     ]
    }
   ],
   "source": [
    "solution = routing.SolveWithParameters(search_parameters)\n",
    "if solution:\n",
    "    print_solution(manager, routing, solution)"
   ]
  },
  {
   "cell_type": "code",
   "execution_count": null,
   "metadata": {},
   "outputs": [],
   "source": []
  }
 ],
 "metadata": {
  "kernelspec": {
   "display_name": "Python 3",
   "language": "python",
   "name": "python3"
  },
  "language_info": {
   "codemirror_mode": {
    "name": "ipython",
    "version": 3
   },
   "file_extension": ".py",
   "mimetype": "text/x-python",
   "name": "python",
   "nbconvert_exporter": "python",
   "pygments_lexer": "ipython3",
   "version": "3.8.3"
  }
 },
 "nbformat": 4,
 "nbformat_minor": 4
}
